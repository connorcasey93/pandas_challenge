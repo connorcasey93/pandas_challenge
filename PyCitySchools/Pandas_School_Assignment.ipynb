{
 "cells": [
  {
   "cell_type": "code",
   "execution_count": 271,
   "id": "5dbba38f-aa64-4e54-92d0-5ee9899c2847",
   "metadata": {},
   "outputs": [
    {
     "data": {
      "text/html": [
       "<div>\n",
       "<style scoped>\n",
       "    .dataframe tbody tr th:only-of-type {\n",
       "        vertical-align: middle;\n",
       "    }\n",
       "\n",
       "    .dataframe tbody tr th {\n",
       "        vertical-align: top;\n",
       "    }\n",
       "\n",
       "    .dataframe thead th {\n",
       "        text-align: right;\n",
       "    }\n",
       "</style>\n",
       "<table border=\"1\" class=\"dataframe\">\n",
       "  <thead>\n",
       "    <tr style=\"text-align: right;\">\n",
       "      <th></th>\n",
       "      <th>Student ID</th>\n",
       "      <th>student_name</th>\n",
       "      <th>gender</th>\n",
       "      <th>grade</th>\n",
       "      <th>school_name</th>\n",
       "      <th>reading_score</th>\n",
       "      <th>math_score</th>\n",
       "      <th>School ID</th>\n",
       "      <th>type</th>\n",
       "      <th>size</th>\n",
       "      <th>budget</th>\n",
       "    </tr>\n",
       "  </thead>\n",
       "  <tbody>\n",
       "    <tr>\n",
       "      <th>0</th>\n",
       "      <td>0</td>\n",
       "      <td>Paul Bradley</td>\n",
       "      <td>M</td>\n",
       "      <td>9th</td>\n",
       "      <td>Huang High School</td>\n",
       "      <td>66</td>\n",
       "      <td>79</td>\n",
       "      <td>0</td>\n",
       "      <td>District</td>\n",
       "      <td>2917</td>\n",
       "      <td>1910635</td>\n",
       "    </tr>\n",
       "    <tr>\n",
       "      <th>1</th>\n",
       "      <td>1</td>\n",
       "      <td>Victor Smith</td>\n",
       "      <td>M</td>\n",
       "      <td>12th</td>\n",
       "      <td>Huang High School</td>\n",
       "      <td>94</td>\n",
       "      <td>61</td>\n",
       "      <td>0</td>\n",
       "      <td>District</td>\n",
       "      <td>2917</td>\n",
       "      <td>1910635</td>\n",
       "    </tr>\n",
       "    <tr>\n",
       "      <th>2</th>\n",
       "      <td>2</td>\n",
       "      <td>Kevin Rodriguez</td>\n",
       "      <td>M</td>\n",
       "      <td>12th</td>\n",
       "      <td>Huang High School</td>\n",
       "      <td>90</td>\n",
       "      <td>60</td>\n",
       "      <td>0</td>\n",
       "      <td>District</td>\n",
       "      <td>2917</td>\n",
       "      <td>1910635</td>\n",
       "    </tr>\n",
       "    <tr>\n",
       "      <th>3</th>\n",
       "      <td>3</td>\n",
       "      <td>Dr. Richard Scott</td>\n",
       "      <td>M</td>\n",
       "      <td>12th</td>\n",
       "      <td>Huang High School</td>\n",
       "      <td>67</td>\n",
       "      <td>58</td>\n",
       "      <td>0</td>\n",
       "      <td>District</td>\n",
       "      <td>2917</td>\n",
       "      <td>1910635</td>\n",
       "    </tr>\n",
       "    <tr>\n",
       "      <th>4</th>\n",
       "      <td>4</td>\n",
       "      <td>Bonnie Ray</td>\n",
       "      <td>F</td>\n",
       "      <td>9th</td>\n",
       "      <td>Huang High School</td>\n",
       "      <td>97</td>\n",
       "      <td>84</td>\n",
       "      <td>0</td>\n",
       "      <td>District</td>\n",
       "      <td>2917</td>\n",
       "      <td>1910635</td>\n",
       "    </tr>\n",
       "  </tbody>\n",
       "</table>\n",
       "</div>"
      ],
      "text/plain": [
       "   Student ID       student_name gender grade        school_name  \\\n",
       "0           0       Paul Bradley      M   9th  Huang High School   \n",
       "1           1       Victor Smith      M  12th  Huang High School   \n",
       "2           2    Kevin Rodriguez      M  12th  Huang High School   \n",
       "3           3  Dr. Richard Scott      M  12th  Huang High School   \n",
       "4           4         Bonnie Ray      F   9th  Huang High School   \n",
       "\n",
       "   reading_score  math_score  School ID      type  size   budget  \n",
       "0             66          79          0  District  2917  1910635  \n",
       "1             94          61          0  District  2917  1910635  \n",
       "2             90          60          0  District  2917  1910635  \n",
       "3             67          58          0  District  2917  1910635  \n",
       "4             97          84          0  District  2917  1910635  "
      ]
     },
     "execution_count": 271,
     "metadata": {},
     "output_type": "execute_result"
    }
   ],
   "source": [
    "# Dependencies and Setup\n",
    "import pandas as pd\n",
    "from pathlib import Path\n",
    "\n",
    "# File to Load (Remember to Change These)\n",
    "school_data_to_load = Path(\"Resources/schools_complete.csv\")\n",
    "student_data_to_load = Path(\"Resources/students_complete.csv\")\n",
    "\n",
    "# Read School and Student Data File and store into Pandas DataFrames\n",
    "school_data = pd.read_csv(school_data_to_load)\n",
    "student_data = pd.read_csv(student_data_to_load)\n",
    "\n",
    "# Combine the data into a single dataset.\n",
    "school_data_complete = pd.merge(student_data, school_data, how=\"left\", on=\"school_name\")\n",
    "school_data_complete.head()\n"
   ]
  },
  {
   "cell_type": "code",
   "execution_count": 272,
   "id": "a4cf3825-4b51-47fb-9056-f609512823c5",
   "metadata": {},
   "outputs": [],
   "source": [
    "#District Summary"
   ]
  },
  {
   "cell_type": "code",
   "execution_count": 273,
   "id": "3f7d0409-99ba-4517-8b95-7313764da34d",
   "metadata": {},
   "outputs": [
    {
     "name": "stdout",
     "output_type": "stream",
     "text": [
      "15\n"
     ]
    }
   ],
   "source": [
    "# Calculate the total number of unique schools\n",
    "unique_schools = school_data_complete[\"school_name\"].unique()\n",
    "school_count= len(unique_schools)\n",
    "print(school_count)\n"
   ]
  },
  {
   "cell_type": "code",
   "execution_count": 274,
   "id": "c6e8606c-10ca-494d-912d-4f6bdbf949b6",
   "metadata": {},
   "outputs": [
    {
     "name": "stdout",
     "output_type": "stream",
     "text": [
      "39170\n"
     ]
    }
   ],
   "source": [
    "# Calculate the total number of students\n",
    "student_count = len(school_data_complete[\"student_name\"])\n",
    "print(student_count)\n"
   ]
  },
  {
   "cell_type": "code",
   "execution_count": 275,
   "id": "082d27ae-f4c0-4195-b8b2-8765bb6c88ba",
   "metadata": {
    "scrolled": true
   },
   "outputs": [
    {
     "name": "stdout",
     "output_type": "stream",
     "text": [
      "24649428\n"
     ]
    }
   ],
   "source": [
    "# Calculate the total budget\n",
    "unique_budget = school_data_complete[\"budget\"].unique()\n",
    "total_budget = sum(unique_budget)\n",
    "print(total_budget)"
   ]
  },
  {
   "cell_type": "code",
   "execution_count": 276,
   "id": "71ef125c-ebaa-4838-91a1-e52f95f3bc89",
   "metadata": {},
   "outputs": [
    {
     "name": "stdout",
     "output_type": "stream",
     "text": [
      "78.98537145774827\n"
     ]
    }
   ],
   "source": [
    "# Calculate the average (mean) math score\n",
    "average_math_score = school_data_complete[(\"math_score\")].mean()\n",
    "print(average_math_score)"
   ]
  },
  {
   "cell_type": "code",
   "execution_count": 277,
   "id": "e3eebec3-d681-4108-9e0c-c55986a3b6bb",
   "metadata": {},
   "outputs": [
    {
     "name": "stdout",
     "output_type": "stream",
     "text": [
      "81.87784018381414\n"
     ]
    }
   ],
   "source": [
    "# Calculate the average (mean) reading score\n",
    "average_reading_score = school_data_complete[\"reading_score\"].mean()\n",
    "print(average_reading_score)"
   ]
  },
  {
   "cell_type": "code",
   "execution_count": 278,
   "id": "9b266277-63dd-45a0-bddf-21315464ebaf",
   "metadata": {},
   "outputs": [
    {
     "name": "stdout",
     "output_type": "stream",
     "text": [
      "74.9808526933878\n"
     ]
    }
   ],
   "source": [
    "# Use the following to calculate the percentage of students who passed math (math scores greather than or equal to 70)\n",
    "passing_math_count = school_data_complete[(school_data_complete[\"math_score\"] >= 70)].count()[\"student_name\"]\n",
    "passing_math_percentage = passing_math_count / float(student_count) * 100\n",
    "passing_math_percentage\n",
    "print(passing_math_percentage)"
   ]
  },
  {
   "cell_type": "code",
   "execution_count": 279,
   "id": "a8926922-26e3-442a-83af-020b9811df56",
   "metadata": {},
   "outputs": [
    {
     "name": "stdout",
     "output_type": "stream",
     "text": [
      "85.80546336482001\n"
     ]
    }
   ],
   "source": [
    "# Calculate the percentage of students who passed reading (hint: look at how the math percentage was calculated)\n",
    "passing_reading_count = school_data_complete[(school_data_complete[\"reading_score\"] >= 70)].count()[\"student_name\"]\n",
    "passing_reading_percentage = passing_reading_count / float(student_count) * 100\n",
    "print(passing_reading_percentage)"
   ]
  },
  {
   "cell_type": "code",
   "execution_count": 280,
   "id": "ead088c7-bc85-4016-814d-281588d1dd89",
   "metadata": {},
   "outputs": [
    {
     "name": "stdout",
     "output_type": "stream",
     "text": [
      "65.17232575950983\n"
     ]
    }
   ],
   "source": [
    "# Use the following to calculate the percentage of students that passed math and reading\n",
    "passing_math_reading_count = school_data_complete[\n",
    "(school_data_complete[\"math_score\"] >= 70) & (school_data_complete[\"reading_score\"] >= 70)].count()[\"student_name\"]\n",
    "overall_passing_rate = passing_math_reading_count /  float(student_count) * 100\n",
    "print(overall_passing_rate)"
   ]
  },
  {
   "cell_type": "code",
   "execution_count": 281,
   "id": "fd4e2275-d102-4791-91a8-4237c1e9e928",
   "metadata": {},
   "outputs": [
    {
     "data": {
      "text/html": [
       "<div>\n",
       "<style scoped>\n",
       "    .dataframe tbody tr th:only-of-type {\n",
       "        vertical-align: middle;\n",
       "    }\n",
       "\n",
       "    .dataframe tbody tr th {\n",
       "        vertical-align: top;\n",
       "    }\n",
       "\n",
       "    .dataframe thead th {\n",
       "        text-align: right;\n",
       "    }\n",
       "</style>\n",
       "<table border=\"1\" class=\"dataframe\">\n",
       "  <thead>\n",
       "    <tr style=\"text-align: right;\">\n",
       "      <th></th>\n",
       "      <th>Total Schools</th>\n",
       "      <th>Total Students</th>\n",
       "      <th>Total Budget</th>\n",
       "      <th>Average Math Score</th>\n",
       "      <th>Average Reading Score</th>\n",
       "      <th>% Passing Math</th>\n",
       "      <th>% Passing Reading</th>\n",
       "      <th>% Overall Passing</th>\n",
       "    </tr>\n",
       "  </thead>\n",
       "  <tbody>\n",
       "    <tr>\n",
       "      <th>0</th>\n",
       "      <td>15</td>\n",
       "      <td>39,170</td>\n",
       "      <td>$24,649,428.00</td>\n",
       "      <td>78.985371457748272</td>\n",
       "      <td>81.877840183814143</td>\n",
       "      <td>74.980852693387803</td>\n",
       "      <td>85.805463364820014</td>\n",
       "      <td>65.172325759509832</td>\n",
       "    </tr>\n",
       "  </tbody>\n",
       "</table>\n",
       "</div>"
      ],
      "text/plain": [
       "   Total Schools Total Students    Total Budget  Average Math Score  \\\n",
       "0             15         39,170  $24,649,428.00  78.985371457748272   \n",
       "\n",
       "   Average Reading Score      % Passing Math   % Passing Reading  \\\n",
       "0     81.877840183814143  74.980852693387803  85.805463364820014   \n",
       "\n",
       "    % Overall Passing  \n",
       "0  65.172325759509832  "
      ]
     },
     "execution_count": 281,
     "metadata": {},
     "output_type": "execute_result"
    }
   ],
   "source": [
    "# Create a high-level snapshot of the district's key metrics in a DataFrame\n",
    "district_summary = pd.DataFrame({\"Total Schools\": [school_count],\"Total Students\": [student_count], \"Total Budget\": [total_budget],\n",
    "\"Average Math Score\": [average_math_score],\"Average Reading Score\": [average_reading_score],\"% Passing Math\": [passing_math_percentage],\n",
    "\"% Passing Reading\": [passing_reading_percentage],\"% Overall Passing\": [overall_passing_rate]})\n",
    "\n",
    "# Formatting\n",
    "district_summary[\"Total Students\"] = district_summary[\"Total Students\"].map(\"{:,}\".format)\n",
    "district_summary[\"Total Budget\"] = district_summary[\"Total Budget\"].map(\"${:,.2f}\".format)\n",
    "\n",
    "# Display the DataFrame\n",
    "district_summary\n"
   ]
  },
  {
   "cell_type": "code",
   "execution_count": 282,
   "id": "018e4eac-0e5d-43a7-ba06-c089b1788d9b",
   "metadata": {},
   "outputs": [],
   "source": [
    "#School Summary"
   ]
  },
  {
   "cell_type": "code",
   "execution_count": 283,
   "id": "2b1cbdab-ddbd-42aa-ae40-cd24ccfa595e",
   "metadata": {},
   "outputs": [
    {
     "name": "stdout",
     "output_type": "stream",
     "text": [
      "school_name\n",
      "Huang High School        District\n",
      "Figueroa High School     District\n",
      "Shelton High School       Charter\n",
      "Hernandez High School    District\n",
      "Griffin High School       Charter\n",
      "Wilson High School        Charter\n",
      "Cabrera High School       Charter\n",
      "Bailey High School       District\n",
      "Holden High School        Charter\n",
      "Pena High School          Charter\n",
      "Wright High School        Charter\n",
      "Rodriguez High School    District\n",
      "Johnson High School      District\n",
      "Ford High School         District\n",
      "Thomas High School        Charter\n",
      "Name: type, dtype: object\n"
     ]
    }
   ],
   "source": [
    "# Use the code provided to select the type per school from school_data\n",
    "school_types = school_data.set_index([\"school_name\"])[\"type\"]\n",
    "print(school_types)"
   ]
  },
  {
   "cell_type": "code",
   "execution_count": 284,
   "id": "38d79cd4-b01f-44f1-a0f9-c8a9b4bbd783",
   "metadata": {},
   "outputs": [
    {
     "data": {
      "text/plain": [
       "school_name\n",
       "Bailey High School       4976\n",
       "Johnson High School      4761\n",
       "Hernandez High School    4635\n",
       "Rodriguez High School    3999\n",
       "Figueroa High School     2949\n",
       "Huang High School        2917\n",
       "Ford High School         2739\n",
       "Wilson High School       2283\n",
       "Cabrera High School      1858\n",
       "Wright High School       1800\n",
       "Shelton High School      1761\n",
       "Thomas High School       1635\n",
       "Griffin High School      1468\n",
       "Pena High School          962\n",
       "Holden High School        427\n",
       "Name: count, dtype: int64"
      ]
     },
     "execution_count": 284,
     "metadata": {},
     "output_type": "execute_result"
    }
   ],
   "source": [
    "# Calculate the total student count per school from school_data\n",
    "per_school_counts =school_data_complete[\"school_name\"].value_counts()\n",
    "per_school_counts\n"
   ]
  },
  {
   "cell_type": "code",
   "execution_count": 285,
   "id": "ab8186cd-1970-4f2c-859d-8b55c6c3d383",
   "metadata": {},
   "outputs": [
    {
     "data": {
      "text/plain": [
       "school_name\n",
       "Bailey High School       3124928.0\n",
       "Cabrera High School      1081356.0\n",
       "Figueroa High School     1884411.0\n",
       "Ford High School         1763916.0\n",
       "Griffin High School       917500.0\n",
       "Hernandez High School    3022020.0\n",
       "Holden High School        248087.0\n",
       "Huang High School        1910635.0\n",
       "Johnson High School      3094650.0\n",
       "Pena High School          585858.0\n",
       "Rodriguez High School    2547363.0\n",
       "Shelton High School      1056600.0\n",
       "Thomas High School       1043130.0\n",
       "Wilson High School       1319574.0\n",
       "Wright High School       1049400.0\n",
       "Name: budget, dtype: float64"
      ]
     },
     "execution_count": 285,
     "metadata": {},
     "output_type": "execute_result"
    }
   ],
   "source": [
    "per_school_budget=school_data_complete.groupby([\"school_name\"])[\"budget\"].mean()\n",
    "\n",
    "per_school_budget\n",
    "\n"
   ]
  },
  {
   "cell_type": "code",
   "execution_count": 286,
   "id": "54f466a4-16a6-4232-aa0b-2ac2bee12518",
   "metadata": {},
   "outputs": [
    {
     "data": {
      "text/plain": [
       "school_name\n",
       "Bailey High School       628.0\n",
       "Cabrera High School      582.0\n",
       "Figueroa High School     639.0\n",
       "Ford High School         644.0\n",
       "Griffin High School      625.0\n",
       "Hernandez High School    652.0\n",
       "Holden High School       581.0\n",
       "Huang High School        655.0\n",
       "Johnson High School      650.0\n",
       "Pena High School         609.0\n",
       "Rodriguez High School    637.0\n",
       "Shelton High School      600.0\n",
       "Thomas High School       638.0\n",
       "Wilson High School       578.0\n",
       "Wright High School       583.0\n",
       "dtype: float64"
      ]
     },
     "execution_count": 286,
     "metadata": {},
     "output_type": "execute_result"
    }
   ],
   "source": [
    "per_school_capita = per_school_capita = per_school_budget / per_school_counts\n",
    "per_school_capita"
   ]
  },
  {
   "cell_type": "code",
   "execution_count": 287,
   "id": "391bf342-af55-4f25-9238-e79c3aaaf223",
   "metadata": {
    "scrolled": true
   },
   "outputs": [
    {
     "data": {
      "text/plain": [
       "school_name\n",
       "Bailey High School       77.048432475884240\n",
       "Cabrera High School      83.061894510226054\n",
       "Figueroa High School     76.711766700576462\n",
       "Ford High School         77.102592186929542\n",
       "Griffin High School      83.351498637602177\n",
       "Hernandez High School    77.289751887810141\n",
       "Holden High School       83.803278688524586\n",
       "Huang High School        76.629413781282139\n",
       "Johnson High School      77.072463768115938\n",
       "Pena High School         83.839916839916839\n",
       "Rodriguez High School    76.842710677669416\n",
       "Shelton High School      83.359454855195906\n",
       "Thomas High School       83.418348623853205\n",
       "Wilson High School       83.274200613228203\n",
       "Wright High School       83.682222222222222\n",
       "Name: math_score, dtype: float64"
      ]
     },
     "execution_count": 287,
     "metadata": {},
     "output_type": "execute_result"
    }
   ],
   "source": [
    "# Calculate the average test scores per school from school_data_complete\n",
    "per_school_math = school_data_complete.groupby([\"school_name\"])[\"math_score\"].mean()\n",
    "per_school_math\n"
   ]
  },
  {
   "cell_type": "code",
   "execution_count": 288,
   "id": "6594c8ab-322f-489b-af25-4e2c1f877da3",
   "metadata": {},
   "outputs": [
    {
     "data": {
      "text/plain": [
       "school_name\n",
       "Bailey High School       81.033963022508033\n",
       "Cabrera High School      83.975780409041974\n",
       "Figueroa High School     81.158019667683959\n",
       "Ford High School         80.746257758305944\n",
       "Griffin High School      83.816757493188007\n",
       "Hernandez High School    80.934412081984902\n",
       "Holden High School       83.814988290398119\n",
       "Huang High School        81.182721974631477\n",
       "Johnson High School      80.966393614786810\n",
       "Pena High School         84.044698544698548\n",
       "Rodriguez High School    80.744686171542881\n",
       "Shelton High School      83.725724020442925\n",
       "Thomas High School       83.848929663608558\n",
       "Wilson High School       83.989487516425754\n",
       "Wright High School       83.954999999999998\n",
       "Name: reading_score, dtype: float64"
      ]
     },
     "execution_count": 288,
     "metadata": {},
     "output_type": "execute_result"
    }
   ],
   "source": [
    "per_school_reading = school_data_complete.groupby([\"school_name\"])[\"reading_score\"].mean()\n",
    "per_school_reading\n"
   ]
  },
  {
   "cell_type": "code",
   "execution_count": 289,
   "id": "f0592bc1-bcad-4531-9dc9-3f8422424440",
   "metadata": {},
   "outputs": [
    {
     "name": "stdout",
     "output_type": "stream",
     "text": [
      "school_name\n",
      "Bailey High School       3318\n",
      "Cabrera High School      1749\n",
      "Figueroa High School     1946\n",
      "Ford High School         1871\n",
      "Griffin High School      1371\n",
      "Hernandez High School    3094\n",
      "Holden High School        395\n",
      "Huang High School        1916\n",
      "Johnson High School      3145\n",
      "Pena High School          910\n",
      "Rodriguez High School    2654\n",
      "Shelton High School      1653\n",
      "Thomas High School       1525\n",
      "Wilson High School       2143\n",
      "Wright High School       1680\n",
      "dtype: int64\n"
     ]
    }
   ],
   "source": [
    "# Calculate the number of students per school with math scores of 70 or higher from school_namets_passing_reading\n",
    "students_passing_math = school_data_complete[(school_data_complete[\"math_score\"] >= 70)]\n",
    "school_students_passing_reading = students_passing_math.groupby([\"school_name\"]).size()\n",
    "print(school_students_passing_math)"
   ]
  },
  {
   "cell_type": "code",
   "execution_count": 290,
   "id": "80585534-66a5-4959-8923-569ecbee2fb8",
   "metadata": {},
   "outputs": [
    {
     "name": "stdout",
     "output_type": "stream",
     "text": [
      "school_name\n",
      "Bailey High School       4077\n",
      "Cabrera High School      1803\n",
      "Figueroa High School     2381\n",
      "Ford High School         2172\n",
      "Griffin High School      1426\n",
      "Hernandez High School    3748\n",
      "Holden High School        411\n",
      "Huang High School        2372\n",
      "Johnson High School      3867\n",
      "Pena High School          923\n",
      "Rodriguez High School    3208\n",
      "Shelton High School      1688\n",
      "Thomas High School       1591\n",
      "Wilson High School       2204\n",
      "Wright High School       1739\n",
      "dtype: int64\n"
     ]
    }
   ],
   "source": [
    "# Calculate the number of students per school with reading scores of 70 or higher from school_data_complete\n",
    "students_passing_reading = school_data_complete[(school_data_complete[\"reading_score\"] >= 70)]\n",
    "school_students_passing_reading = students_passing_reading.groupby([\"school_name\"]).size()\n",
    "print(school_students_passing_reading)"
   ]
  },
  {
   "cell_type": "code",
   "execution_count": 291,
   "id": "abb1ef24-9de6-4193-86ff-c67c4591cb6a",
   "metadata": {},
   "outputs": [
    {
     "data": {
      "text/plain": [
       "school_name\n",
       "Bailey High School       2719\n",
       "Cabrera High School      1697\n",
       "Figueroa High School     1569\n",
       "Ford High School         1487\n",
       "Griffin High School      1330\n",
       "Hernandez High School    2481\n",
       "Holden High School        381\n",
       "Huang High School        1561\n",
       "Johnson High School      2549\n",
       "Pena High School          871\n",
       "Rodriguez High School    2119\n",
       "Shelton High School      1583\n",
       "Thomas High School       1487\n",
       "Wilson High School       2068\n",
       "Wright High School       1626\n",
       "dtype: int64"
      ]
     },
     "execution_count": 291,
     "metadata": {},
     "output_type": "execute_result"
    }
   ],
   "source": [
    "# Use the provided code to calculate the number of students per school that passed both math and reading with scores of 70 or higher\n",
    "students_passing_math_and_reading = school_data_complete[\n",
    "(school_data_complete[\"reading_score\"] >= 70) & (school_data_complete[\"math_score\"] >= 70)]\n",
    "school_students_passing_math_and_reading = students_passing_math_and_reading.groupby([\"school_name\"]).size()\n",
    "school_students_passing_math_and_reading "
   ]
  },
  {
   "cell_type": "code",
   "execution_count": 292,
   "id": "3aefe842-956a-43db-b3e8-709ebb4d1e90",
   "metadata": {},
   "outputs": [
    {
     "name": "stdout",
     "output_type": "stream",
     "text": [
      "school_name\n",
      "Bailey High School       66.680064308681679\n",
      "Cabrera High School      94.133476856835301\n",
      "Figueroa High School     65.988470668023055\n",
      "Ford High School         68.309602044541805\n",
      "Griffin High School      93.392370572207085\n",
      "Hernandez High School    66.752966558791798\n",
      "Holden High School       92.505854800936774\n",
      "Huang High School        65.683921837504286\n",
      "Johnson High School      66.057550934677593\n",
      "Pena High School         94.594594594594597\n",
      "Rodriguez High School    66.366591647911974\n",
      "Shelton High School      93.867120954003397\n",
      "Thomas High School       93.272171253822634\n",
      "Wilson High School       93.867717915024102\n",
      "Wright High School       93.333333333333329\n",
      "dtype: float64\n",
      "school_name\n",
      "Bailey High School       81.933279742765279\n",
      "Cabrera High School      97.039827771797633\n",
      "Figueroa High School     80.739233638521540\n",
      "Ford High School         79.299014238773282\n",
      "Griffin High School      97.138964577656679\n",
      "Hernandez High School    80.862998921251346\n",
      "Holden High School       96.252927400468380\n",
      "Huang High School        81.316420980459384\n",
      "Johnson High School      81.222432262129800\n",
      "Pena High School         95.945945945945937\n",
      "Rodriguez High School    80.220055013753438\n",
      "Shelton High School      95.854628052243044\n",
      "Thomas High School       97.308868501529062\n",
      "Wilson High School       96.539640823477882\n",
      "Wright High School       96.611111111111114\n",
      "dtype: float64\n",
      "school_name\n",
      "Bailey High School       54.642282958199360\n",
      "Cabrera High School      91.334768568353070\n",
      "Figueroa High School     53.204476093591047\n",
      "Ford High School         54.289886820007304\n",
      "Griffin High School      90.599455040871931\n",
      "Hernandez High School    53.527508090614887\n",
      "Holden High School       89.227166276346608\n",
      "Huang High School        53.513884127528279\n",
      "Johnson High School      53.539172442764126\n",
      "Pena High School         90.540540540540533\n",
      "Rodriguez High School    52.988247061765435\n",
      "Shelton High School      89.892106757524132\n",
      "Thomas High School       90.948012232415891\n",
      "Wilson High School       90.582566798072719\n",
      "Wright High School       90.333333333333329\n",
      "dtype: float64\n"
     ]
    }
   ],
   "source": [
    "# Use the provided code to calculate the passing rates\n",
    "per_school_passing_math = school_students_passing_math / per_school_counts * 100\n",
    "per_school_passing_reading = school_students_passing_reading / per_school_counts * 100\n",
    "overall_passing_rate = school_students_passing_math_and_reading / per_school_counts * 100\n",
    "print(per_school_passing_math)\n",
    "print(per_school_passing_reading)\n",
    "print(overall_passing_rate)"
   ]
  },
  {
   "cell_type": "code",
   "execution_count": 293,
   "id": "0344575f-b11f-487b-a212-91549e2e4fa1",
   "metadata": {},
   "outputs": [
    {
     "data": {
      "text/html": [
       "<div>\n",
       "<style scoped>\n",
       "    .dataframe tbody tr th:only-of-type {\n",
       "        vertical-align: middle;\n",
       "    }\n",
       "\n",
       "    .dataframe tbody tr th {\n",
       "        vertical-align: top;\n",
       "    }\n",
       "\n",
       "    .dataframe thead th {\n",
       "        text-align: right;\n",
       "    }\n",
       "</style>\n",
       "<table border=\"1\" class=\"dataframe\">\n",
       "  <thead>\n",
       "    <tr style=\"text-align: right;\">\n",
       "      <th></th>\n",
       "      <th>School Type</th>\n",
       "      <th>Total Students</th>\n",
       "      <th>Total School Budget</th>\n",
       "      <th>Per Student Budget</th>\n",
       "      <th>Average Math Score</th>\n",
       "      <th>Average Reading Score</th>\n",
       "      <th>% Passing Math</th>\n",
       "      <th>% Passing Reading</th>\n",
       "      <th>% Overall Passing</th>\n",
       "    </tr>\n",
       "    <tr>\n",
       "      <th>school_name</th>\n",
       "      <th></th>\n",
       "      <th></th>\n",
       "      <th></th>\n",
       "      <th></th>\n",
       "      <th></th>\n",
       "      <th></th>\n",
       "      <th></th>\n",
       "      <th></th>\n",
       "      <th></th>\n",
       "    </tr>\n",
       "  </thead>\n",
       "  <tbody>\n",
       "    <tr>\n",
       "      <th>Bailey High School</th>\n",
       "      <td>District</td>\n",
       "      <td>4976</td>\n",
       "      <td>$3,124,928.00</td>\n",
       "      <td>$628.00</td>\n",
       "      <td>77.048432475884240</td>\n",
       "      <td>81.033963022508033</td>\n",
       "      <td>66.680064308681679</td>\n",
       "      <td>81.933279742765279</td>\n",
       "      <td>54.642282958199360</td>\n",
       "    </tr>\n",
       "    <tr>\n",
       "      <th>Cabrera High School</th>\n",
       "      <td>Charter</td>\n",
       "      <td>1858</td>\n",
       "      <td>$1,081,356.00</td>\n",
       "      <td>$582.00</td>\n",
       "      <td>83.061894510226054</td>\n",
       "      <td>83.975780409041974</td>\n",
       "      <td>94.133476856835301</td>\n",
       "      <td>97.039827771797633</td>\n",
       "      <td>91.334768568353070</td>\n",
       "    </tr>\n",
       "    <tr>\n",
       "      <th>Figueroa High School</th>\n",
       "      <td>District</td>\n",
       "      <td>2949</td>\n",
       "      <td>$1,884,411.00</td>\n",
       "      <td>$639.00</td>\n",
       "      <td>76.711766700576462</td>\n",
       "      <td>81.158019667683959</td>\n",
       "      <td>65.988470668023055</td>\n",
       "      <td>80.739233638521540</td>\n",
       "      <td>53.204476093591047</td>\n",
       "    </tr>\n",
       "    <tr>\n",
       "      <th>Ford High School</th>\n",
       "      <td>District</td>\n",
       "      <td>2739</td>\n",
       "      <td>$1,763,916.00</td>\n",
       "      <td>$644.00</td>\n",
       "      <td>77.102592186929542</td>\n",
       "      <td>80.746257758305944</td>\n",
       "      <td>68.309602044541805</td>\n",
       "      <td>79.299014238773282</td>\n",
       "      <td>54.289886820007304</td>\n",
       "    </tr>\n",
       "    <tr>\n",
       "      <th>Griffin High School</th>\n",
       "      <td>Charter</td>\n",
       "      <td>1468</td>\n",
       "      <td>$917,500.00</td>\n",
       "      <td>$625.00</td>\n",
       "      <td>83.351498637602177</td>\n",
       "      <td>83.816757493188007</td>\n",
       "      <td>93.392370572207085</td>\n",
       "      <td>97.138964577656679</td>\n",
       "      <td>90.599455040871931</td>\n",
       "    </tr>\n",
       "    <tr>\n",
       "      <th>Hernandez High School</th>\n",
       "      <td>District</td>\n",
       "      <td>4635</td>\n",
       "      <td>$3,022,020.00</td>\n",
       "      <td>$652.00</td>\n",
       "      <td>77.289751887810141</td>\n",
       "      <td>80.934412081984902</td>\n",
       "      <td>66.752966558791798</td>\n",
       "      <td>80.862998921251346</td>\n",
       "      <td>53.527508090614887</td>\n",
       "    </tr>\n",
       "    <tr>\n",
       "      <th>Holden High School</th>\n",
       "      <td>Charter</td>\n",
       "      <td>427</td>\n",
       "      <td>$248,087.00</td>\n",
       "      <td>$581.00</td>\n",
       "      <td>83.803278688524586</td>\n",
       "      <td>83.814988290398119</td>\n",
       "      <td>92.505854800936774</td>\n",
       "      <td>96.252927400468380</td>\n",
       "      <td>89.227166276346608</td>\n",
       "    </tr>\n",
       "    <tr>\n",
       "      <th>Huang High School</th>\n",
       "      <td>District</td>\n",
       "      <td>2917</td>\n",
       "      <td>$1,910,635.00</td>\n",
       "      <td>$655.00</td>\n",
       "      <td>76.629413781282139</td>\n",
       "      <td>81.182721974631477</td>\n",
       "      <td>65.683921837504286</td>\n",
       "      <td>81.316420980459384</td>\n",
       "      <td>53.513884127528279</td>\n",
       "    </tr>\n",
       "    <tr>\n",
       "      <th>Johnson High School</th>\n",
       "      <td>District</td>\n",
       "      <td>4761</td>\n",
       "      <td>$3,094,650.00</td>\n",
       "      <td>$650.00</td>\n",
       "      <td>77.072463768115938</td>\n",
       "      <td>80.966393614786810</td>\n",
       "      <td>66.057550934677593</td>\n",
       "      <td>81.222432262129800</td>\n",
       "      <td>53.539172442764126</td>\n",
       "    </tr>\n",
       "    <tr>\n",
       "      <th>Pena High School</th>\n",
       "      <td>Charter</td>\n",
       "      <td>962</td>\n",
       "      <td>$585,858.00</td>\n",
       "      <td>$609.00</td>\n",
       "      <td>83.839916839916839</td>\n",
       "      <td>84.044698544698548</td>\n",
       "      <td>94.594594594594597</td>\n",
       "      <td>95.945945945945937</td>\n",
       "      <td>90.540540540540533</td>\n",
       "    </tr>\n",
       "    <tr>\n",
       "      <th>Rodriguez High School</th>\n",
       "      <td>District</td>\n",
       "      <td>3999</td>\n",
       "      <td>$2,547,363.00</td>\n",
       "      <td>$637.00</td>\n",
       "      <td>76.842710677669416</td>\n",
       "      <td>80.744686171542881</td>\n",
       "      <td>66.366591647911974</td>\n",
       "      <td>80.220055013753438</td>\n",
       "      <td>52.988247061765435</td>\n",
       "    </tr>\n",
       "    <tr>\n",
       "      <th>Shelton High School</th>\n",
       "      <td>Charter</td>\n",
       "      <td>1761</td>\n",
       "      <td>$1,056,600.00</td>\n",
       "      <td>$600.00</td>\n",
       "      <td>83.359454855195906</td>\n",
       "      <td>83.725724020442925</td>\n",
       "      <td>93.867120954003397</td>\n",
       "      <td>95.854628052243044</td>\n",
       "      <td>89.892106757524132</td>\n",
       "    </tr>\n",
       "    <tr>\n",
       "      <th>Thomas High School</th>\n",
       "      <td>Charter</td>\n",
       "      <td>1635</td>\n",
       "      <td>$1,043,130.00</td>\n",
       "      <td>$638.00</td>\n",
       "      <td>83.418348623853205</td>\n",
       "      <td>83.848929663608558</td>\n",
       "      <td>93.272171253822634</td>\n",
       "      <td>97.308868501529062</td>\n",
       "      <td>90.948012232415891</td>\n",
       "    </tr>\n",
       "    <tr>\n",
       "      <th>Wilson High School</th>\n",
       "      <td>Charter</td>\n",
       "      <td>2283</td>\n",
       "      <td>$1,319,574.00</td>\n",
       "      <td>$578.00</td>\n",
       "      <td>83.274200613228203</td>\n",
       "      <td>83.989487516425754</td>\n",
       "      <td>93.867717915024102</td>\n",
       "      <td>96.539640823477882</td>\n",
       "      <td>90.582566798072719</td>\n",
       "    </tr>\n",
       "    <tr>\n",
       "      <th>Wright High School</th>\n",
       "      <td>Charter</td>\n",
       "      <td>1800</td>\n",
       "      <td>$1,049,400.00</td>\n",
       "      <td>$583.00</td>\n",
       "      <td>83.682222222222222</td>\n",
       "      <td>83.954999999999998</td>\n",
       "      <td>93.333333333333329</td>\n",
       "      <td>96.611111111111114</td>\n",
       "      <td>90.333333333333329</td>\n",
       "    </tr>\n",
       "  </tbody>\n",
       "</table>\n",
       "</div>"
      ],
      "text/plain": [
       "                      School Type  Total Students Total School Budget  \\\n",
       "school_name                                                             \n",
       "Bailey High School       District            4976       $3,124,928.00   \n",
       "Cabrera High School       Charter            1858       $1,081,356.00   \n",
       "Figueroa High School     District            2949       $1,884,411.00   \n",
       "Ford High School         District            2739       $1,763,916.00   \n",
       "Griffin High School       Charter            1468         $917,500.00   \n",
       "Hernandez High School    District            4635       $3,022,020.00   \n",
       "Holden High School        Charter             427         $248,087.00   \n",
       "Huang High School        District            2917       $1,910,635.00   \n",
       "Johnson High School      District            4761       $3,094,650.00   \n",
       "Pena High School          Charter             962         $585,858.00   \n",
       "Rodriguez High School    District            3999       $2,547,363.00   \n",
       "Shelton High School       Charter            1761       $1,056,600.00   \n",
       "Thomas High School        Charter            1635       $1,043,130.00   \n",
       "Wilson High School        Charter            2283       $1,319,574.00   \n",
       "Wright High School        Charter            1800       $1,049,400.00   \n",
       "\n",
       "                      Per Student Budget  Average Math Score  \\\n",
       "school_name                                                    \n",
       "Bailey High School               $628.00  77.048432475884240   \n",
       "Cabrera High School              $582.00  83.061894510226054   \n",
       "Figueroa High School             $639.00  76.711766700576462   \n",
       "Ford High School                 $644.00  77.102592186929542   \n",
       "Griffin High School              $625.00  83.351498637602177   \n",
       "Hernandez High School            $652.00  77.289751887810141   \n",
       "Holden High School               $581.00  83.803278688524586   \n",
       "Huang High School                $655.00  76.629413781282139   \n",
       "Johnson High School              $650.00  77.072463768115938   \n",
       "Pena High School                 $609.00  83.839916839916839   \n",
       "Rodriguez High School            $637.00  76.842710677669416   \n",
       "Shelton High School              $600.00  83.359454855195906   \n",
       "Thomas High School               $638.00  83.418348623853205   \n",
       "Wilson High School               $578.00  83.274200613228203   \n",
       "Wright High School               $583.00  83.682222222222222   \n",
       "\n",
       "                       Average Reading Score      % Passing Math  \\\n",
       "school_name                                                        \n",
       "Bailey High School        81.033963022508033  66.680064308681679   \n",
       "Cabrera High School       83.975780409041974  94.133476856835301   \n",
       "Figueroa High School      81.158019667683959  65.988470668023055   \n",
       "Ford High School          80.746257758305944  68.309602044541805   \n",
       "Griffin High School       83.816757493188007  93.392370572207085   \n",
       "Hernandez High School     80.934412081984902  66.752966558791798   \n",
       "Holden High School        83.814988290398119  92.505854800936774   \n",
       "Huang High School         81.182721974631477  65.683921837504286   \n",
       "Johnson High School       80.966393614786810  66.057550934677593   \n",
       "Pena High School          84.044698544698548  94.594594594594597   \n",
       "Rodriguez High School     80.744686171542881  66.366591647911974   \n",
       "Shelton High School       83.725724020442925  93.867120954003397   \n",
       "Thomas High School        83.848929663608558  93.272171253822634   \n",
       "Wilson High School        83.989487516425754  93.867717915024102   \n",
       "Wright High School        83.954999999999998  93.333333333333329   \n",
       "\n",
       "                        % Passing Reading   % Overall Passing  \n",
       "school_name                                                    \n",
       "Bailey High School     81.933279742765279  54.642282958199360  \n",
       "Cabrera High School    97.039827771797633  91.334768568353070  \n",
       "Figueroa High School   80.739233638521540  53.204476093591047  \n",
       "Ford High School       79.299014238773282  54.289886820007304  \n",
       "Griffin High School    97.138964577656679  90.599455040871931  \n",
       "Hernandez High School  80.862998921251346  53.527508090614887  \n",
       "Holden High School     96.252927400468380  89.227166276346608  \n",
       "Huang High School      81.316420980459384  53.513884127528279  \n",
       "Johnson High School    81.222432262129800  53.539172442764126  \n",
       "Pena High School       95.945945945945937  90.540540540540533  \n",
       "Rodriguez High School  80.220055013753438  52.988247061765435  \n",
       "Shelton High School    95.854628052243044  89.892106757524132  \n",
       "Thomas High School     97.308868501529062  90.948012232415891  \n",
       "Wilson High School     96.539640823477882  90.582566798072719  \n",
       "Wright High School     96.611111111111114  90.333333333333329  "
      ]
     },
     "execution_count": 293,
     "metadata": {},
     "output_type": "execute_result"
    }
   ],
   "source": [
    "# Create a DataFrame called `per_school_summary` with columns for the calculations above.\n",
    "per_school_summary =  pd.DataFrame({\"School Type\" : school_types,\"Total Students\" : per_school_counts,\"Total School Budget\" : per_school_budget,\n",
    "\"Per Student Budget\" : per_school_capita,\"Average Math Score\" : per_school_math,\"Average Reading Score\" : per_school_reading,     \n",
    "\"% Passing Math\" : per_school_passing_math,\"% Passing Reading\" : per_school_passing_reading, \"% Overall Passing\" : overall_passing_rate})\n",
    "\n",
    "# Formatting\n",
    "per_school_summary[\"Total School Budget\"] = per_school_summary[\"Total School Budget\"].map(\"${:,.2f}\".format)\n",
    "per_school_summary[\"Per Student Budget\"] = per_school_summary[\"Per Student Budget\"].map(\"${:,.2f}\".format)\n",
    "\n",
    "# Display the DataFrame\n",
    "per_school_summary"
   ]
  },
  {
   "cell_type": "code",
   "execution_count": 294,
   "id": "b671ae31-0f28-4a89-8144-11aee18042ab",
   "metadata": {},
   "outputs": [
    {
     "ename": "SyntaxError",
     "evalue": "invalid syntax (3166587618.py, line 1)",
     "output_type": "error",
     "traceback": [
      "\u001b[0;36m  Cell \u001b[0;32mIn[294], line 1\u001b[0;36m\u001b[0m\n\u001b[0;31m    Highest-Performing Schools (by % Overall Passing)\u001b[0m\n\u001b[0m                       ^\u001b[0m\n\u001b[0;31mSyntaxError\u001b[0m\u001b[0;31m:\u001b[0m invalid syntax\n"
     ]
    }
   ],
   "source": [
    "Highest-Performing Schools (by % Overall Passing)"
   ]
  },
  {
   "cell_type": "code",
   "execution_count": null,
   "id": "f1a9c00f-9222-4076-9ca2-1693fa47c9b2",
   "metadata": {},
   "outputs": [],
   "source": [
    "# Sort the schools by `% Overall Passing` in descending order and display the top 5 rows.\n",
    "top_schools = per_school_summary.sort_values(\"% Overall Passing\", ascending=False)\n",
    "top_schools.head(5)"
   ]
  },
  {
   "cell_type": "code",
   "execution_count": null,
   "id": "53335526-8b7b-4afe-9d68-8887c1905199",
   "metadata": {},
   "outputs": [],
   "source": [
    "#Bottom-Performing Schools (by % Overall Passing)"
   ]
  },
  {
   "cell_type": "code",
   "execution_count": null,
   "id": "8d113ec8-c19c-4d97-9601-6748a31502fd",
   "metadata": {},
   "outputs": [],
   "source": [
    "# Sort the schools by `% Overall Passing` in ascending order and display the top 5 rows.\n",
    "bottom_schools = lowest_performing = per_school_summary.sort_values(\"% Overall Passing\")\n",
    "bottom_schools.head(5)"
   ]
  },
  {
   "cell_type": "code",
   "execution_count": null,
   "id": "8184ad3d-0d8c-4bc3-b084-35c911a2dc21",
   "metadata": {},
   "outputs": [],
   "source": [
    "# Use the code provided to separate the data by grade\n",
    "ninth_graders = school_data_complete[(school_data_complete[\"grade\"] == \"9th\")]\n",
    "tenth_graders = school_data_complete[(school_data_complete[\"grade\"] == \"10th\")]\n",
    "eleventh_graders = school_data_complete[(school_data_complete[\"grade\"] == \"11th\")]\n",
    "twelfth_graders = school_data_complete[(school_data_complete[\"grade\"] == \"12th\")]\n",
    "\n",
    "# Group by `school_name` and take the mean of the `math_score` column for each.\n",
    "ninth_grade_math_scores = ninth_graders.groupby([\"school_name\"])[\"math_score\"].mean()\n",
    "tenth_grader_math_scores = tenth_graders.groupby([\"school_name\"])[\"math_score\"].mean()\n",
    "eleventh_grader_math_scores = eleventh_graders.groupby([\"school_name\"])[\"math_score\"].mean()\n",
    "twelfth_grader_math_scores = twelfth_graders.groupby([\"school_name\"])[\"math_score\"].mean()\n",
    "\n",
    "# Combine each of the scores above into single DataFrame called `math_scores_by_grade`\n",
    "math_scores_by_grade = pd.DataFrame( {\"9th\": ninth_grade_math_scores,\"10th\": tenth_grader_math_scores,\"11th\": eleventh_grader_math_scores,\n",
    "\"12th\": twelfth_grader_math_scores })\n",
    "\n",
    "# Minor data wrangling\n",
    "math_scores_by_grade.index.name = None\n",
    "\n",
    "# Display the DataFrame\n",
    "math_scores_by_grade"
   ]
  },
  {
   "cell_type": "code",
   "execution_count": null,
   "id": "5701b03b-c042-4d0c-8259-ddc7d52c38e2",
   "metadata": {},
   "outputs": [],
   "source": [
    "# Use the code provided to separate the data by grade\n",
    "ninth_graders = school_data_complete[(school_data_complete[\"grade\"] == \"9th\")]\n",
    "tenth_graders = school_data_complete[(school_data_complete[\"grade\"] == \"10th\")]\n",
    "eleventh_graders = school_data_complete[(school_data_complete[\"grade\"] == \"11th\")]\n",
    "twelfth_graders = school_data_complete[(school_data_complete[\"grade\"] == \"12th\")]\n",
    "\n",
    "# Group by `school_name` and take the mean of the `math_score` column for each.\n",
    "ninth_grade_math_scores = ninth_graders.groupby([\"school_name\"])[\"reading_score\"].mean()\n",
    "tenth_grader_math_scores = tenth_graders.groupby([\"school_name\"])[\"reading_score\"].mean()\n",
    "eleventh_grader_math_scores = eleventh_graders.groupby([\"school_name\"])[\"reading_score\"].mean()\n",
    "twelfth_grader_math_scores = twelfth_graders.groupby([\"school_name\"])[\"reading_score\"].mean()\n",
    "\n",
    "# Combine each of the scores above into single DataFrame called `math_scores_by_grade`\n",
    "reading_scores_by_grade = pd.DataFrame({\"9th\": ninth_grade_math_scores,\"10th\": tenth_grader_math_scores,\"11th\": eleventh_grader_math_scores,\n",
    "\"12th\": twelfth_grader_math_scores})\n",
    "\n",
    "# Minor data wrangling\n",
    "reading_scores_by_grade.index.name = None\n",
    "\n",
    "# Display the DataFrame\n",
    "reading_scores_by_grade"
   ]
  },
  {
   "cell_type": "code",
   "execution_count": null,
   "id": "0fef8003-f63e-421d-a3e8-e17508628b9a",
   "metadata": {},
   "outputs": [],
   "source": [
    "School Scores by Spending"
   ]
  },
  {
   "cell_type": "code",
   "execution_count": null,
   "id": "94c0501a-052f-4393-a5b0-782eac34e15c",
   "metadata": {},
   "outputs": [],
   "source": [
    "# Establish the bins\n",
    "spending_bins = [0, 585, 630, 645, 680]\n",
    "labels = [\"<$585\", \"$585-630\", \"$630-645\", \"$645-680\"]\n"
   ]
  },
  {
   "cell_type": "code",
   "execution_count": null,
   "id": "baa3a360-ef61-4545-a246-ffc1bd745db3",
   "metadata": {},
   "outputs": [],
   "source": [
    "# Create a copy of the school summary for later aggregations\n",
    "school_spending_df = per_school_summary.copy()"
   ]
  },
  {
   "cell_type": "code",
   "execution_count": null,
   "id": "853d87a0-5ae6-4c41-a98d-f9bd13b80bef",
   "metadata": {},
   "outputs": [],
   "source": [
    "# Use `pd.cut` on the per_school_capita Series from earlier to categorize per student spending based on the bins.\n",
    "school_spending_df[\"Spending Ranges (Per Student)\"] = pd.cut(per_school_capita, spending_bins, labels=labels)\n",
    "\n",
    "# Convert Spending Ranges (Per Student) to a string\n",
    "school_spending_df[\"Spending Ranges (Per Student)\"] = school_spending_df[\"Spending Ranges (Per Student)\"].astype(str)\n",
    "\n"
   ]
  },
  {
   "cell_type": "code",
   "execution_count": null,
   "id": "627d69fc-01dc-437d-8097-b7cce8c64632",
   "metadata": {},
   "outputs": [],
   "source": [
    "#  Calculate averages for the desired columns.\n",
    "spending_math_scores = school_spending_df.groupby([\"Spending Ranges (Per Student)\"])[\"Average Math Score\"].mean()\n",
    "spending_reading_scores = school_spending_df.groupby([\"Spending Ranges (Per Student)\"])[\"Average Reading Score\"].mean()\n",
    "spending_passing_math = school_spending_df.groupby([\"Spending Ranges (Per Student)\"])[\"% Passing Math\"].mean()\n",
    "spending_passing_reading = school_spending_df.groupby([\"Spending Ranges (Per Student)\"])[\"% Passing Reading\"].mean()\n",
    "overall_passing_spending = school_spending_df.groupby([\"Spending Ranges (Per Student)\"])[\"% Overall Passing\"].mean()"
   ]
  },
  {
   "cell_type": "code",
   "execution_count": null,
   "id": "4f69650a-b92f-44af-ba91-5cb704c3b858",
   "metadata": {},
   "outputs": [],
   "source": [
    "# Assemble into DataFrame\n",
    "spending_summary = pd.DataFrame({\"Average Math Score\": spending_math_scores, \"Average Reading Score\": spending_reading_scores,\n",
    "\"% Passing Math\": spending_passing_math,\"% Passing Reading\": spending_passing_reading,\"% Overall Passing\": overall_passing_spending})\n",
    "\n",
    "# Display results\n",
    "spending_summary\n"
   ]
  },
  {
   "cell_type": "code",
   "execution_count": null,
   "id": "42b228f9-3c19-4e3c-ba59-48110455a34a",
   "metadata": {},
   "outputs": [],
   "source": [
    "Scores by School Size"
   ]
  },
  {
   "cell_type": "code",
   "execution_count": null,
   "id": "2804083d-fc0e-49d0-8f08-0a6f7e45145a",
   "metadata": {},
   "outputs": [],
   "source": [
    "# Establish the bins.\n",
    "size_bins = [0, 1000, 2000, 5000]\n",
    "labels = [\"Small (<1000)\", \"Medium (1000-2000)\", \"Large (2000-5000)\"]"
   ]
  },
  {
   "cell_type": "code",
   "execution_count": null,
   "id": "5bb61d35-10c0-4e27-8e14-6488e14af029",
   "metadata": {},
   "outputs": [],
   "source": [
    "# Create a copy of the school summary for later aggregations\n",
    "school_size_df = per_school_summary.copy()"
   ]
  },
  {
   "cell_type": "code",
   "execution_count": null,
   "id": "cf27b7f4-3b3b-4a61-9cda-03649d711e2e",
   "metadata": {},
   "outputs": [],
   "source": [
    "# Use `pd.cut` on the per_school_counts Series from earlier to categorize school size based on the bins.\n",
    "school_size_df[\"School Size\"] = pd.cut(per_school_counts, size_bins, labels=labels)\n",
    "\n",
    "# Convert School Size to a string\n",
    "school_size_df[\"School Size\"] = school_size_df[\"School Size\"].astype(str)\n"
   ]
  },
  {
   "cell_type": "code",
   "execution_count": null,
   "id": "6a92bf48-d861-44fb-abcc-6eb65d5421a0",
   "metadata": {},
   "outputs": [],
   "source": [
    "# Calculate averages for the desired columns.\n",
    "size_math_scores = school_size_df.groupby([\"School Size\"])[\"Average Math Score\"].mean()\n",
    "size_reading_scores = school_size_df.groupby([\"School Size\"])[\"Average Reading Score\"].mean()\n",
    "size_passing_math = school_size_df.groupby([\"School Size\"])[\"% Passing Math\"].mean()\n",
    "size_passing_reading = school_size_df.groupby([\"School Size\"])[\"% Passing Reading\"].mean()\n",
    "size_overall_passing = school_size_df.groupby([\"School Size\"])[\"% Overall Passing\"].mean()"
   ]
  },
  {
   "cell_type": "code",
   "execution_count": null,
   "id": "24d920ec-dfb9-4b9c-944d-b71f7bbb97eb",
   "metadata": {},
   "outputs": [],
   "source": [
    "# Create a DataFrame called `size_summary` that breaks down school performance based on school size (small, medium, or large).\n",
    "# Use the scores above to create a new DataFrame called `size_summary`\n",
    "size_summary = size_summary = pd.DataFrame({\"Average Math Score\": size_math_scores, \"Average Reading Score\": size_reading_scores,\n",
    "\"% Passing Math\": size_passing_math,\"% Passing Reading\": size_passing_reading,\"% Overall Passing\": size_overall_passing})\n",
    "\n",
    "\n",
    "\n",
    "# Display results\n",
    "size_summary\n",
    "\n"
   ]
  },
  {
   "cell_type": "code",
   "execution_count": null,
   "id": "749f6cb5-2504-4836-9342-c8b09254b858",
   "metadata": {},
   "outputs": [],
   "source": [
    "district_summary.to_csv('schools_data.csv', index=False)"
   ]
  },
  {
   "cell_type": "code",
   "execution_count": null,
   "id": "7d3e827a-10f1-4207-912a-975670ba526e",
   "metadata": {},
   "outputs": [],
   "source": [
    "#Scores by School Type"
   ]
  },
  {
   "cell_type": "code",
   "execution_count": null,
   "id": "af08caa8-d17b-478b-bdcf-3fe1ed276cb4",
   "metadata": {},
   "outputs": [],
   "source": [
    "# Group the per_school_summary DataFrame by \"School Type\" and average the results.\n",
    "average_math_score_by_type = per_school_summary.groupby([\"School Type\"])[\"Average Math Score\"].mean()\n",
    "average_reading_score_by_type = per_school_summary.groupby([\"School Type\"])[\"Average Reading Score\"].mean()\n",
    "average_percent_passing_math_by_type = per_school_summary.groupby([\"School Type\"])[\"% Passing Math\"].mean()\n",
    "average_percent_passing_reading_by_type = per_school_summary.groupby([\"School Type\"])[\"% Passing Reading\"].mean()\n",
    "average_percent_overall_passing_by_type = per_school_summary.groupby([\"School Type\"])[\"% Overall Passing\"].mean()\n"
   ]
  },
  {
   "cell_type": "code",
   "execution_count": null,
   "id": "91e361ee-cb9e-437b-8ca2-50360ea439db",
   "metadata": {},
   "outputs": [],
   "source": [
    "# Assemble the new data by type into a DataFrame called `type_summary`\n",
    "type_summary = pd.DataFrame({\"Average Math Score\" : average_math_score_by_type,\"Average Reading Score\" : average_reading_score_by_type,\n",
    "\"% Passing Math\" : average_percent_passing_math_by_type,\"% Passing Reading\" : average_percent_passing_reading_by_type,\n",
    "\"% Overall Passing\" : average_percent_overall_passing_by_type})\n",
    "\n",
    "# Display results\n",
    "type_summary"
   ]
  },
  {
   "cell_type": "code",
   "execution_count": null,
   "id": "bc8d710e-d602-4db9-be7d-156e18b4d209",
   "metadata": {},
   "outputs": [],
   "source": [
    "# Specify the path and filename where you want to save the DataFrame\n",
    "file_path = '/Users/connorcasey/pandas_challenge.csv'\n",
    "df.set_index('school_name', inplace=True)\n",
    "# Save the DataFrame to CSV\n",
    "district_summary.to_csv(file_path)\n",
    "per_school_summary.to_csv(file_path)\n",
    "top_schools.to_csv(file_path)"
   ]
  },
  {
   "cell_type": "code",
   "execution_count": null,
   "id": "36a92cbd-89e4-455a-80f0-31853205d23c",
   "metadata": {},
   "outputs": [],
   "source": []
  },
  {
   "cell_type": "code",
   "execution_count": null,
   "id": "4a99c893-5000-4fdc-9fbf-97b9c1734c33",
   "metadata": {},
   "outputs": [],
   "source": []
  }
 ],
 "metadata": {
  "kernelspec": {
   "display_name": "mydev",
   "language": "python",
   "name": "mydev"
  },
  "language_info": {
   "codemirror_mode": {
    "name": "ipython",
    "version": 3
   },
   "file_extension": ".py",
   "mimetype": "text/x-python",
   "name": "python",
   "nbconvert_exporter": "python",
   "pygments_lexer": "ipython3",
   "version": "3.12.4"
  }
 },
 "nbformat": 4,
 "nbformat_minor": 5
}
